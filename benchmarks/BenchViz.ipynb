{
 "cells": [
  {
   "cell_type": "code",
   "execution_count": 23,
   "metadata": {},
   "outputs": [],
   "source": [
    "import plotly.express as px\n",
    "import seaborn as sns\n",
    "import pandas as pd\n",
    "from bs4 import BeautifulSoup\n",
    "import re\n",
    "import numpy as np\n",
    "import matplotlib.pyplot as plt"
   ]
  },
  {
   "cell_type": "markdown",
   "metadata": {},
   "source": [
    "## Get data from FlameGraphs\n",
    "Flamegraphs are really nice to analyse function in development phase, but not the most natural format for production automatic CICD benchmarking\n"
   ]
  },
  {
   "cell_type": "code",
   "execution_count": 24,
   "metadata": {},
   "outputs": [],
   "source": [
    "baseline_runtimes = np.array([0.642066478729248,\n",
    "                    2.280177593231201,\n",
    "                    20.51885223388672,\n",
    "                    307.2343645095825])\n",
    "baseline_runtimes\n",
    "allreduce_runtimes = np.array([\n",
    "    0.9886195659637451,\n",
    "    2.6663870811462402,\n",
    "    30.583645582199097,\n",
    "    515.5396280288696\n",
    "])\n",
    "allreduce_quant24_runtimes = np.array([\n",
    "    0.855358362197876,\n",
    "    0.8036544322967529,\n",
    "    3.2721290588378906,\n",
    "    100.87990117073059\n",
    "])\n",
    "allreduce_numpy_runtimes = np.array([\n",
    "    1.6837677955627441,\n",
    "    6.494603157043457,\n",
    "    90.2047004699707,\n",
    "    1236.9328877925873\n",
    "])\n",
    "all_reduce_ext_runtimes = np.array([\n",
    "    1.0342988967895508,\n",
    "    2.67451810836792,\n",
    "    19.48147678375244,\n",
    "    300.335649728775\n",
    "])\n",
    "runtimes = {\n",
    "    'np': allreduce_numpy_runtimes,\n",
    "    'ext': all_reduce_ext_runtimes,\n",
    "    'par24': allreduce_quant24_runtimes,\n",
    "    'ar': allreduce_runtimes,\n",
    "}"
   ]
  },
  {
   "cell_type": "code",
   "execution_count": 40,
   "metadata": {},
   "outputs": [
    {
     "data": {
      "text/plain": [
       "(0, 92.2, 7.799999999999997)"
      ]
     },
     "execution_count": 40,
     "metadata": {},
     "output_type": "execute_result"
    }
   ],
   "source": [
    "def breakdown_of(graph, run='run:42'):\n",
    "    with open(graph) as svg:\n",
    "        quantization = [':137', ':142', ':154', ':150']\n",
    "        quantization = list(map(lambda s: 'all_reduce.py'+s, quantization))\n",
    "        quantization = ['quantize']\n",
    "        communication = ['isend', 'recv']\n",
    "        soup = BeautifulSoup(svg, 'lxml-xml')\n",
    "        titles = soup.findAll('title')\n",
    "        def percentage_of(trace):\n",
    "            matches = [title for title in titles if title.string.find(trace) != -1]\n",
    "            matches = list(map(lambda tag: tag.string, matches))\n",
    "            #percentage = sum(list(map(lambda trace: float(''.join(list(trace.split(':')[-1].split(',')[1])[:-2])), matches)))\n",
    "            percentages = list(map(lambda trace: float(''.join(trace.split(':')[-1].split(',')[-1][:-2])), matches))\n",
    "            return sum(percentages)\n",
    "        bias = percentage_of(run)\n",
    "        communication = sum([percentage_of(part) for part in communication])# * 100 #/ bias\n",
    "        quantization = sum(list(map(percentage_of, quantization)))# * 100# / bias\n",
    "        return communication, quantization, 100 - communication - quantization\n",
    "breakdown_of('exp19/np-26.svg')"
   ]
  },
  {
   "cell_type": "code",
   "execution_count": 41,
   "metadata": {},
   "outputs": [
    {
     "data": {
      "text/html": [
       "<div>\n",
       "<style scoped>\n",
       "    .dataframe tbody tr th:only-of-type {\n",
       "        vertical-align: middle;\n",
       "    }\n",
       "\n",
       "    .dataframe tbody tr th {\n",
       "        vertical-align: top;\n",
       "    }\n",
       "\n",
       "    .dataframe thead th {\n",
       "        text-align: right;\n",
       "    }\n",
       "</style>\n",
       "<table border=\"1\" class=\"dataframe\">\n",
       "  <thead>\n",
       "    <tr style=\"text-align: right;\">\n",
       "      <th></th>\n",
       "      <th>function</th>\n",
       "      <th>input_size</th>\n",
       "      <th>computation</th>\n",
       "      <th>communication</th>\n",
       "      <th>quantization</th>\n",
       "      <th>total</th>\n",
       "    </tr>\n",
       "  </thead>\n",
       "  <tbody>\n",
       "    <tr>\n",
       "      <th>0</th>\n",
       "      <td>1</td>\n",
       "      <td>14</td>\n",
       "      <td>0.000000</td>\n",
       "      <td>0.000000</td>\n",
       "      <td>0.000000</td>\n",
       "      <td>0.642066</td>\n",
       "    </tr>\n",
       "    <tr>\n",
       "      <th>1</th>\n",
       "      <td>1</td>\n",
       "      <td>18</td>\n",
       "      <td>0.000000</td>\n",
       "      <td>0.000000</td>\n",
       "      <td>0.000000</td>\n",
       "      <td>2.280178</td>\n",
       "    </tr>\n",
       "    <tr>\n",
       "      <th>2</th>\n",
       "      <td>1</td>\n",
       "      <td>22</td>\n",
       "      <td>0.000000</td>\n",
       "      <td>0.000000</td>\n",
       "      <td>0.000000</td>\n",
       "      <td>20.518852</td>\n",
       "    </tr>\n",
       "    <tr>\n",
       "      <th>3</th>\n",
       "      <td>1</td>\n",
       "      <td>26</td>\n",
       "      <td>0.000000</td>\n",
       "      <td>0.000000</td>\n",
       "      <td>0.000000</td>\n",
       "      <td>307.234365</td>\n",
       "    </tr>\n",
       "    <tr>\n",
       "      <th>4</th>\n",
       "      <td>3</td>\n",
       "      <td>14</td>\n",
       "      <td>0.439463</td>\n",
       "      <td>0.573323</td>\n",
       "      <td>0.670981</td>\n",
       "      <td>1.683768</td>\n",
       "    </tr>\n",
       "    <tr>\n",
       "      <th>5</th>\n",
       "      <td>3</td>\n",
       "      <td>18</td>\n",
       "      <td>1.219037</td>\n",
       "      <td>0.550742</td>\n",
       "      <td>4.724824</td>\n",
       "      <td>6.494603</td>\n",
       "    </tr>\n",
       "    <tr>\n",
       "      <th>6</th>\n",
       "      <td>3</td>\n",
       "      <td>22</td>\n",
       "      <td>13.837401</td>\n",
       "      <td>0.000000</td>\n",
       "      <td>76.367299</td>\n",
       "      <td>90.204700</td>\n",
       "    </tr>\n",
       "    <tr>\n",
       "      <th>7</th>\n",
       "      <td>3</td>\n",
       "      <td>26</td>\n",
       "      <td>96.480765</td>\n",
       "      <td>0.000000</td>\n",
       "      <td>1140.452123</td>\n",
       "      <td>1236.932888</td>\n",
       "    </tr>\n",
       "    <tr>\n",
       "      <th>8</th>\n",
       "      <td>4</td>\n",
       "      <td>14</td>\n",
       "      <td>0.478053</td>\n",
       "      <td>0.556246</td>\n",
       "      <td>0.000000</td>\n",
       "      <td>1.034299</td>\n",
       "    </tr>\n",
       "    <tr>\n",
       "      <th>9</th>\n",
       "      <td>4</td>\n",
       "      <td>18</td>\n",
       "      <td>2.097090</td>\n",
       "      <td>0.577428</td>\n",
       "      <td>0.000000</td>\n",
       "      <td>2.674518</td>\n",
       "    </tr>\n",
       "    <tr>\n",
       "      <th>10</th>\n",
       "      <td>4</td>\n",
       "      <td>22</td>\n",
       "      <td>18.542470</td>\n",
       "      <td>0.939007</td>\n",
       "      <td>0.000000</td>\n",
       "      <td>19.481477</td>\n",
       "    </tr>\n",
       "    <tr>\n",
       "      <th>11</th>\n",
       "      <td>4</td>\n",
       "      <td>26</td>\n",
       "      <td>300.335650</td>\n",
       "      <td>0.000000</td>\n",
       "      <td>0.000000</td>\n",
       "      <td>300.335650</td>\n",
       "    </tr>\n",
       "    <tr>\n",
       "      <th>12</th>\n",
       "      <td>5</td>\n",
       "      <td>14</td>\n",
       "      <td>0.457788</td>\n",
       "      <td>0.397571</td>\n",
       "      <td>0.000000</td>\n",
       "      <td>0.855358</td>\n",
       "    </tr>\n",
       "    <tr>\n",
       "      <th>13</th>\n",
       "      <td>5</td>\n",
       "      <td>18</td>\n",
       "      <td>0.438313</td>\n",
       "      <td>0.365341</td>\n",
       "      <td>0.000000</td>\n",
       "      <td>0.803654</td>\n",
       "    </tr>\n",
       "    <tr>\n",
       "      <th>14</th>\n",
       "      <td>5</td>\n",
       "      <td>22</td>\n",
       "      <td>1.731283</td>\n",
       "      <td>1.540846</td>\n",
       "      <td>0.000000</td>\n",
       "      <td>3.272129</td>\n",
       "    </tr>\n",
       "    <tr>\n",
       "      <th>15</th>\n",
       "      <td>5</td>\n",
       "      <td>26</td>\n",
       "      <td>98.176320</td>\n",
       "      <td>2.703581</td>\n",
       "      <td>0.000000</td>\n",
       "      <td>100.879901</td>\n",
       "    </tr>\n",
       "    <tr>\n",
       "      <th>16</th>\n",
       "      <td>2</td>\n",
       "      <td>14</td>\n",
       "      <td>0.156004</td>\n",
       "      <td>0.832615</td>\n",
       "      <td>0.000000</td>\n",
       "      <td>0.988620</td>\n",
       "    </tr>\n",
       "    <tr>\n",
       "      <th>17</th>\n",
       "      <td>2</td>\n",
       "      <td>18</td>\n",
       "      <td>0.029330</td>\n",
       "      <td>2.637057</td>\n",
       "      <td>0.000000</td>\n",
       "      <td>2.666387</td>\n",
       "    </tr>\n",
       "    <tr>\n",
       "      <th>18</th>\n",
       "      <td>2</td>\n",
       "      <td>22</td>\n",
       "      <td>2.247898</td>\n",
       "      <td>28.335748</td>\n",
       "      <td>0.000000</td>\n",
       "      <td>30.583646</td>\n",
       "    </tr>\n",
       "    <tr>\n",
       "      <th>19</th>\n",
       "      <td>2</td>\n",
       "      <td>26</td>\n",
       "      <td>438.002468</td>\n",
       "      <td>77.537160</td>\n",
       "      <td>0.000000</td>\n",
       "      <td>515.539628</td>\n",
       "    </tr>\n",
       "  </tbody>\n",
       "</table>\n",
       "</div>"
      ],
      "text/plain": [
       "    function  input_size  computation  communication  quantization  \\\n",
       "0          1          14     0.000000       0.000000      0.000000   \n",
       "1          1          18     0.000000       0.000000      0.000000   \n",
       "2          1          22     0.000000       0.000000      0.000000   \n",
       "3          1          26     0.000000       0.000000      0.000000   \n",
       "4          3          14     0.439463       0.573323      0.670981   \n",
       "5          3          18     1.219037       0.550742      4.724824   \n",
       "6          3          22    13.837401       0.000000     76.367299   \n",
       "7          3          26    96.480765       0.000000   1140.452123   \n",
       "8          4          14     0.478053       0.556246      0.000000   \n",
       "9          4          18     2.097090       0.577428      0.000000   \n",
       "10         4          22    18.542470       0.939007      0.000000   \n",
       "11         4          26   300.335650       0.000000      0.000000   \n",
       "12         5          14     0.457788       0.397571      0.000000   \n",
       "13         5          18     0.438313       0.365341      0.000000   \n",
       "14         5          22     1.731283       1.540846      0.000000   \n",
       "15         5          26    98.176320       2.703581      0.000000   \n",
       "16         2          14     0.156004       0.832615      0.000000   \n",
       "17         2          18     0.029330       2.637057      0.000000   \n",
       "18         2          22     2.247898      28.335748      0.000000   \n",
       "19         2          26   438.002468      77.537160      0.000000   \n",
       "\n",
       "          total  \n",
       "0      0.642066  \n",
       "1      2.280178  \n",
       "2     20.518852  \n",
       "3    307.234365  \n",
       "4      1.683768  \n",
       "5      6.494603  \n",
       "6     90.204700  \n",
       "7   1236.932888  \n",
       "8      1.034299  \n",
       "9      2.674518  \n",
       "10    19.481477  \n",
       "11   300.335650  \n",
       "12     0.855358  \n",
       "13     0.803654  \n",
       "14     3.272129  \n",
       "15   100.879901  \n",
       "16     0.988620  \n",
       "17     2.666387  \n",
       "18    30.583646  \n",
       "19   515.539628  "
      ]
     },
     "execution_count": 41,
     "metadata": {},
     "output_type": "execute_result"
    }
   ],
   "source": [
    "#np.array([np.array() for fn in ['np']])\n",
    "df = {\n",
    "    'function': [],\n",
    "    'input_size': [],\n",
    "    'computation': [],\n",
    "    'communication': [],\n",
    "    'quantization': [],\n",
    "    'total': [],\n",
    "}\n",
    "fcode = {\n",
    "    'baseline': 1,\n",
    "    'np': 3,\n",
    "    'ext': 4,\n",
    "    'par24': 5,\n",
    "    'ar': 2,\n",
    "}\n",
    "for fn, rt in [('baseline', baseline_runtimes)]:\n",
    "    for k, input_size in enumerate(range(14, 27, 4)):\n",
    "        df['function'].append(fcode[fn])\n",
    "        df['input_size'].append(input_size)\n",
    "        df['computation'].append(0)\n",
    "        df['communication'].append(0)\n",
    "        df['quantization'].append(0)\n",
    "        df['total'].append(rt[k])\n",
    "for fn in ['np', 'ext', 'par24', 'ar']:\n",
    "    for k, input_size in enumerate(range(14, 27, 4)):\n",
    "        com, q, cmp = breakdown_of('exp19/{}-{}.svg'.format(fn, input_size))\n",
    "        rt = runtimes[fn][k]\n",
    "        df['function'].append(fcode[fn])\n",
    "        df['input_size'].append(input_size)\n",
    "        df['computation'].append(cmp * rt / 100)\n",
    "        df['communication'].append(com * rt / 100)\n",
    "        df['quantization'].append(q * rt / 100)\n",
    "        df['total'].append((cmp+com+q)*rt/100)\n",
    "\n",
    "df = pd.DataFrame.from_dict(df)\n",
    "df"
   ]
  },
  {
   "cell_type": "markdown",
   "metadata": {},
   "source": [
    "Question: is log scale non-sensical?"
   ]
  },
  {
   "cell_type": "code",
   "execution_count": 42,
   "metadata": {},
   "outputs": [
    {
     "ename": "ValueError",
     "evalue": "min() arg is an empty sequence",
     "output_type": "error",
     "traceback": [
      "\u001b[0;31m---------------------------------------------------------------------------\u001b[0m",
      "\u001b[0;31mValueError\u001b[0m                                Traceback (most recent call last)",
      "\u001b[0;32m<ipython-input-42-1d8412a4abc5>\u001b[0m in \u001b[0;36m<module>\u001b[0;34m\u001b[0m\n\u001b[1;32m     16\u001b[0m \u001b[0mfig\u001b[0m\u001b[0;34m,\u001b[0m \u001b[0max\u001b[0m \u001b[0;34m=\u001b[0m \u001b[0mplt\u001b[0m\u001b[0;34m.\u001b[0m\u001b[0msubplots\u001b[0m\u001b[0;34m(\u001b[0m\u001b[0;34m)\u001b[0m\u001b[0;34m\u001b[0m\u001b[0;34m\u001b[0m\u001b[0m\n\u001b[1;32m     17\u001b[0m \u001b[0max\u001b[0m\u001b[0;34m.\u001b[0m\u001b[0mset_yscale\u001b[0m\u001b[0;34m(\u001b[0m\u001b[0;34m'log'\u001b[0m\u001b[0;34m)\u001b[0m\u001b[0;34m\u001b[0m\u001b[0;34m\u001b[0m\u001b[0m\n\u001b[0;32m---> 18\u001b[0;31m \u001b[0max\u001b[0m\u001b[0;34m.\u001b[0m\u001b[0mbar\u001b[0m\u001b[0;34m(\u001b[0m\u001b[0mbaselineTicks\u001b[0m\u001b[0;34m,\u001b[0m \u001b[0mdf\u001b[0m\u001b[0;34m[\u001b[0m\u001b[0mdf\u001b[0m\u001b[0;34m[\u001b[0m\u001b[0;34m'function'\u001b[0m\u001b[0;34m]\u001b[0m \u001b[0;34m==\u001b[0m \u001b[0;34m'baseline'\u001b[0m\u001b[0;34m]\u001b[0m\u001b[0;34m.\u001b[0m\u001b[0mtotal\u001b[0m\u001b[0;34m,\u001b[0m \u001b[0mwidth\u001b[0m\u001b[0;34m=\u001b[0m\u001b[0mbarWidth\u001b[0m\u001b[0;34m,\u001b[0m \u001b[0medgecolor\u001b[0m\u001b[0;34m=\u001b[0m\u001b[0;34m'white'\u001b[0m\u001b[0;34m,\u001b[0m \u001b[0mlabel\u001b[0m\u001b[0;34m=\u001b[0m\u001b[0;34m'baseline'\u001b[0m\u001b[0;34m,\u001b[0m \u001b[0mcolor\u001b[0m\u001b[0;34m=\u001b[0m\u001b[0;34m'#7f6d5f'\u001b[0m\u001b[0;34m)\u001b[0m\u001b[0;34m\u001b[0m\u001b[0;34m\u001b[0m\u001b[0m\n\u001b[0m\u001b[1;32m     19\u001b[0m \u001b[0;31m#numpy\u001b[0m\u001b[0;34m\u001b[0m\u001b[0;34m\u001b[0m\u001b[0;34m\u001b[0m\u001b[0m\n\u001b[1;32m     20\u001b[0m \u001b[0mnpy\u001b[0m \u001b[0;34m=\u001b[0m \u001b[0mdf\u001b[0m\u001b[0;34m[\u001b[0m\u001b[0mdf\u001b[0m\u001b[0;34m[\u001b[0m\u001b[0;34m'function'\u001b[0m\u001b[0;34m]\u001b[0m \u001b[0;34m==\u001b[0m \u001b[0;34m'np'\u001b[0m\u001b[0;34m]\u001b[0m\u001b[0;34m\u001b[0m\u001b[0;34m\u001b[0m\u001b[0m\n",
      "\u001b[0;32m/anaconda3/envs/grpc/lib/python3.7/site-packages/matplotlib/__init__.py\u001b[0m in \u001b[0;36minner\u001b[0;34m(ax, data, *args, **kwargs)\u001b[0m\n\u001b[1;32m   1599\u001b[0m     \u001b[0;32mdef\u001b[0m \u001b[0minner\u001b[0m\u001b[0;34m(\u001b[0m\u001b[0max\u001b[0m\u001b[0;34m,\u001b[0m \u001b[0;34m*\u001b[0m\u001b[0margs\u001b[0m\u001b[0;34m,\u001b[0m \u001b[0mdata\u001b[0m\u001b[0;34m=\u001b[0m\u001b[0;32mNone\u001b[0m\u001b[0;34m,\u001b[0m \u001b[0;34m**\u001b[0m\u001b[0mkwargs\u001b[0m\u001b[0;34m)\u001b[0m\u001b[0;34m:\u001b[0m\u001b[0;34m\u001b[0m\u001b[0;34m\u001b[0m\u001b[0m\n\u001b[1;32m   1600\u001b[0m         \u001b[0;32mif\u001b[0m \u001b[0mdata\u001b[0m \u001b[0;32mis\u001b[0m \u001b[0;32mNone\u001b[0m\u001b[0;34m:\u001b[0m\u001b[0;34m\u001b[0m\u001b[0;34m\u001b[0m\u001b[0m\n\u001b[0;32m-> 1601\u001b[0;31m             \u001b[0;32mreturn\u001b[0m \u001b[0mfunc\u001b[0m\u001b[0;34m(\u001b[0m\u001b[0max\u001b[0m\u001b[0;34m,\u001b[0m \u001b[0;34m*\u001b[0m\u001b[0mmap\u001b[0m\u001b[0;34m(\u001b[0m\u001b[0msanitize_sequence\u001b[0m\u001b[0;34m,\u001b[0m \u001b[0margs\u001b[0m\u001b[0;34m)\u001b[0m\u001b[0;34m,\u001b[0m \u001b[0;34m**\u001b[0m\u001b[0mkwargs\u001b[0m\u001b[0;34m)\u001b[0m\u001b[0;34m\u001b[0m\u001b[0;34m\u001b[0m\u001b[0m\n\u001b[0m\u001b[1;32m   1602\u001b[0m \u001b[0;34m\u001b[0m\u001b[0m\n\u001b[1;32m   1603\u001b[0m         \u001b[0mbound\u001b[0m \u001b[0;34m=\u001b[0m \u001b[0mnew_sig\u001b[0m\u001b[0;34m.\u001b[0m\u001b[0mbind\u001b[0m\u001b[0;34m(\u001b[0m\u001b[0max\u001b[0m\u001b[0;34m,\u001b[0m \u001b[0;34m*\u001b[0m\u001b[0margs\u001b[0m\u001b[0;34m,\u001b[0m \u001b[0;34m**\u001b[0m\u001b[0mkwargs\u001b[0m\u001b[0;34m)\u001b[0m\u001b[0;34m\u001b[0m\u001b[0;34m\u001b[0m\u001b[0m\n",
      "\u001b[0;32m/anaconda3/envs/grpc/lib/python3.7/site-packages/matplotlib/axes/_axes.py\u001b[0m in \u001b[0;36mbar\u001b[0;34m(self, x, height, width, bottom, align, **kwargs)\u001b[0m\n\u001b[1;32m   2468\u001b[0m         \u001b[0;32mif\u001b[0m \u001b[0madjust_ylim\u001b[0m\u001b[0;34m:\u001b[0m\u001b[0;34m\u001b[0m\u001b[0;34m\u001b[0m\u001b[0m\n\u001b[1;32m   2469\u001b[0m             \u001b[0mymin\u001b[0m\u001b[0;34m,\u001b[0m \u001b[0mymax\u001b[0m \u001b[0;34m=\u001b[0m \u001b[0mself\u001b[0m\u001b[0;34m.\u001b[0m\u001b[0mdataLim\u001b[0m\u001b[0;34m.\u001b[0m\u001b[0mintervaly\u001b[0m\u001b[0;34m\u001b[0m\u001b[0;34m\u001b[0m\u001b[0m\n\u001b[0;32m-> 2470\u001b[0;31m             \u001b[0mymin\u001b[0m \u001b[0;34m=\u001b[0m \u001b[0mmin\u001b[0m\u001b[0;34m(\u001b[0m\u001b[0mh\u001b[0m \u001b[0;32mfor\u001b[0m \u001b[0mh\u001b[0m \u001b[0;32min\u001b[0m \u001b[0mheight\u001b[0m \u001b[0;32mif\u001b[0m \u001b[0mh\u001b[0m \u001b[0;34m>\u001b[0m \u001b[0;36m0\u001b[0m\u001b[0;34m)\u001b[0m\u001b[0;34m\u001b[0m\u001b[0;34m\u001b[0m\u001b[0m\n\u001b[0m\u001b[1;32m   2471\u001b[0m             \u001b[0;32mif\u001b[0m \u001b[0myerr\u001b[0m \u001b[0;32mis\u001b[0m \u001b[0;32mnot\u001b[0m \u001b[0;32mNone\u001b[0m\u001b[0;34m:\u001b[0m\u001b[0;34m\u001b[0m\u001b[0;34m\u001b[0m\u001b[0m\n\u001b[1;32m   2472\u001b[0m                 \u001b[0mymin\u001b[0m \u001b[0;34m=\u001b[0m \u001b[0mymin\u001b[0m \u001b[0;34m-\u001b[0m \u001b[0mnp\u001b[0m\u001b[0;34m.\u001b[0m\u001b[0mmax\u001b[0m\u001b[0;34m(\u001b[0m\u001b[0myerr\u001b[0m\u001b[0;34m)\u001b[0m\u001b[0;34m\u001b[0m\u001b[0;34m\u001b[0m\u001b[0m\n",
      "\u001b[0;31mValueError\u001b[0m: min() arg is an empty sequence"
     ]
    },
    {
     "data": {
      "image/png": "[encoded data removed]",
      "text/plain": [
       "<Figure size 432x288 with 1 Axes>"
      ]
     },
     "metadata": {
      "needs_background": "light"
     },
     "output_type": "display_data"
    }
   ],
   "source": [
    "barWidth = 0.6\n",
    "spacing = 0.1\n",
    "numberOfInputSizes = len(df[df.function == 'np'])\n",
    "baselineTicks = np.arange(numberOfInputSizes) * 4\n",
    "npTicks = [x + barWidth + spacing for x in baselineTicks]\n",
    "extTicks = [x + barWidth  +spacing for x in npTicks]\n",
    "par24Ticks = [x + barWidth + spacing for x in extTicks]\n",
    "comm = 'purple'\n",
    "comp = 'yellow'\n",
    "quant = 'blue'\n",
    "def part3plot(ax, ticks, df, label):\n",
    "    ax.bar(ticks, df.communication, width=barWidth, color=comm)\n",
    "    ax.bar(ticks, df.computation, width=barWidth, color=comp, bottom=np.array(df.communication))\n",
    "    ax.bar(ticks, df.quantization, width=barWidth, color=quant, bottom=np.array(df.computation))\n",
    "#baseline\n",
    "fig, ax = plt.subplots()\n",
    "ax.set_yscale('log')\n",
    "ax.bar(baselineTicks, df[df['function'] == 'baseline'].total, width=barWidth, edgecolor='white', label='baseline', color='#7f6d5f')\n",
    "#numpy\n",
    "npy = df[df['function'] == 'np']\n",
    "part3plot(ax, npTicks, npy, 'numpy')\n",
    "ext = df[df['function'] == 'ext']\n",
    "part3plot(ax, extTicks, ext, 'extension')\n",
    "par24 = df[df['function'] == 'par24']\n",
    "part3plot(ax, par24Ticks, par24, 'parallel')\n",
    "plt.xticks(baselineTicks+1.5*barWidth + spacing, ('2**14', '2**18', '2**22', '2**26'))\n",
    "plt.legend()\n",
    "#ax.bar(extTicks, ext.communication, width=barWidth, color=comm)\n",
    "#ax.bar(extTicks, ext.computation, width=barWidth, color=comp, bottom=ext.communication)\n",
    "#ax.bar(extTicks, ext.quantization, width=barWidth, color=quant)"
   ]
  },
  {
   "cell_type": "code",
   "execution_count": 55,
   "metadata": {},
   "outputs": [],
   "source": [
    "def plot(input_size):\n",
    "    d2 = df[df['input_size'] == input_size].sort_values('function')\n",
    "    x = np.arange(5)\n",
    "    width = 0.5\n",
    "    plt.bar(x, (d2.computation), width=width, color='cyan')\n",
    "    plt.bar(x, (d2.communication), bottom=np.array(d2.computation), width=width, color='purple')\n",
    "    plt.bar(x, (d2.quantization), bottom=np.array(d2.communication+d2.computation), width=width, color='pink')\n",
    "    plt.bar(x, d2.total-d2.computation-d2.communication-d2.quantization, bottom=np.array(d2.quantization+d2.communication+d2.computation), width=width, color='black')\n",
    "    plt.xticks(x, ['baseline', 'unquantized', 'numpy', 'extension', 'parallel'])\n",
    "    plt.legend(['computation', 'communication', 'quantization', 'miscellaneous'])\n",
    "    plt.savefig('{}.png'.format(input_size), dpi=300)"
   ]
  },
  {
   "cell_type": "code",
   "execution_count": 56,
   "metadata": {},
   "outputs": [
    {
     "data": {
      "image/png": "[encoded data removed]",
      "text/plain": [
       "<Figure size 432x288 with 1 Axes>"
      ]
     },
     "metadata": {
      "needs_background": "light"
     },
     "output_type": "display_data"
    }
   ],
   "source": [
    "plot(14)"
   ]
  },
  {
   "cell_type": "code",
   "execution_count": 57,
   "metadata": {},
   "outputs": [
    {
     "data": {
      "image/png": "[encoded data removed]",
      "text/plain": [
       "<Figure size 432x288 with 1 Axes>"
      ]
     },
     "metadata": {
      "needs_background": "light"
     },
     "output_type": "display_data"
    }
   ],
   "source": [
    "plot(18)"
   ]
  },
  {
   "cell_type": "code",
   "execution_count": 53,
   "metadata": {},
   "outputs": [
    {
     "data": {
      "image/png": "[encoded data removed]",
      "text/plain": [
       "<Figure size 432x288 with 1 Axes>"
      ]
     },
     "metadata": {
      "needs_background": "light"
     },
     "output_type": "display_data"
    }
   ],
   "source": [
    "plot(22)"
   ]
  },
  {
   "cell_type": "code",
   "execution_count": 54,
   "metadata": {},
   "outputs": [
    {
     "data": {
      "image/png": "[encoded data removed]",
      "text/plain": [
       "<Figure size 432x288 with 1 Axes>"
      ]
     },
     "metadata": {
      "needs_background": "light"
     },
     "output_type": "display_data"
    }
   ],
   "source": [
    "plot(26)"
   ]
  },
  {
   "cell_type": "markdown",
   "metadata": {},
   "source": [
    "## Benchmarking of parallel quantize extension (v1)\n",
    "Benchmarked by quantizing and unquantizing a tensor of 1 mio elements for 10k shots.\n",
    "```python\n",
    "def benchmarkQ(iters):\n",
    "    quantize, unquantize = quantizy('ext_par')\n",
    "    tensor = torch.one(2**20)\n",
    "    \n",
    "    for numberOfThreads in [1, 2, 4, 8, 16, 24, 32, 48]:\n",
    "        start = time.time()\n",
    "        for _ in range(iters):\n",
    "            unquantize(quantize(tensor, numberOfThreads), numberOfThreads)\n",
    "        runtime = time.time() - start\n",
    "        print('{}: {}'.format(numberOfThreads, runtime))\n",
    "```"
   ]
  },
  {
   "cell_type": "code",
   "execution_count": null,
   "metadata": {},
   "outputs": [],
   "source": [
    "data = {\n",
    "    1: 33.79728627204895,\n",
    "    2: 36.45126271247864,\n",
    "    4: 30.421996116638184,\n",
    "    8: 23.117279529571533,\n",
    "    16: 14.099677801132202,\n",
    "    24: 2.432234048843384,\n",
    "    32: 16.60316228866577,\n",
    "    48: 86.07797956466675\n",
    "}\n",
    "numberOfThreads = list(data)\n",
    "runtimes = list(data.values())\n",
    "df = pd.DataFrame.from_dict({'numberOfThreads': numberOfThreads, 'runtimes': runtimes})\n",
    "#sns.set(style=\"whitegrid\")\n",
    "#ax = sns.barplot(x='numberOfThreads', y='runtimes', data=df)\n",
    "#ax.get_figure().savefig('ext_par_barplot.png')\n",
    "fig = px.bar(df, x='numberOfThreads', y='runtimes')\n",
    "fig.show()"
   ]
  },
  {
   "cell_type": "code",
   "execution_count": null,
   "metadata": {},
   "outputs": [],
   "source": [
    "pd.DataFrame.from_dict({\n",
    "    'function': ['all-reduce-unquantized']*4+['all-reduce-np']*4+['all-reduce-c++']*4+['all-reduce-c++--t4']*4+['all-reduce-c++--t24']*4,\n",
    "    'input_sizes': [14, 18, 22, 26]*5,\n",
    "    'runtimes': [2.8797550201416016, 3.628589153289795, 34.27912616729736, 586.1691422462463,\n",
    "                5.380201578140259, 11.700040578842163, 105.51217818260193, 1355.664867401123,\n",
    "                3.988344192504883, 7.569454193115234, 90.7022819519043, 1620.5233752727509,\n",
    "                3.2412919998168945, 20.209644079208374, 51.957091093063354, 692.5020751953125,\n",
    "                1.902247667312622, 2.1534981727600098, 8.664215326309204, 269.09099531173706],\n",
    "    'communication': [0]*20,\n",
    "    'quantization': [0]*20,\n",
    "})"
   ]
  },
  {
   "cell_type": "code",
   "execution_count": null,
   "metadata": {},
   "outputs": [],
   "source": []
  }
 ],
 "metadata": {
  "kernelspec": {
   "display_name": "Python (grpc)",
   "language": "python",
   "name": "grpc"
  },
  "language_info": {
   "codemirror_mode": {
    "name": "ipython",
    "version": 3
   },
   "file_extension": ".py",
   "mimetype": "text/x-python",
   "name": "python",
   "nbconvert_exporter": "python",
   "pygments_lexer": "ipython3",
   "version": "3.7.4"
  }
 },
 "nbformat": 4,
 "nbformat_minor": 2
}
